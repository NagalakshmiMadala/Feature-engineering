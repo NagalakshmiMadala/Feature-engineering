{
 "cells": [
  {
   "cell_type": "code",
   "execution_count": null,
   "metadata": {},
   "outputs": [],
   "source": [
    "import pandas as pd\n",
    "import numpy as np\n",
    "import time\n",
    "import seaborn as sns\n",
    "import matplotlib.pyplot as plt\n",
    "%matplotlib inline"
   ]
  },
  {
   "cell_type": "code",
   "execution_count": null,
   "metadata": {},
   "outputs": [],
   "source": [
    "starttime=time.time()\n",
    "df = pd.read_....(\"------\")\n",
    "print(\"timetaken\",time.time()-starttime)"
   ]
  },
  {
   "cell_type": "code",
   "execution_count": null,
   "metadata": {},
   "outputs": [],
   "source": [
    "cat_variables=df.select_dtypes(exclude ='float64')    "
   ]
  },
  {
   "cell_type": "code",
   "execution_count": null,
   "metadata": {},
   "outputs": [],
   "source": [
    "#split column into numeric and categorical\n",
    "cols = df.columns\n",
    "\n",
    "NUM = (df._get_numeric_data().columns).to_list()\n",
    "CAT= cols.difference(NUM).to_list()"
   ]
  },
  {
   "cell_type": "code",
   "execution_count": null,
   "metadata": {},
   "outputs": [],
   "source": [
    "for col in CAT:\n",
    "    df[col] = df[col].astype('category')\n",
    "df"
   ]
  },
  {
   "cell_type": "code",
   "execution_count": null,
   "metadata": {},
   "outputs": [],
   "source": [
    "#code to write unique values"
   ]
  },
  {
   "cell_type": "code",
   "execution_count": null,
   "metadata": {},
   "outputs": [],
   "source": [
    "cat_unique=[]\n",
    "for cat in CAT:\n",
    "    a=pd.unique(df[cat])\n",
    "    if len(a)>1 and len(a)<500:\n",
    "        cat_unique.append(cat)\n",
    "cat_unique    \n"
   ]
  },
  {
   "cell_type": "code",
   "execution_count": null,
   "metadata": {},
   "outputs": [],
   "source": [
    "for cat in cat_unique:\n",
    "    x=pd.value_counts(df[cat])\n",
    "    x=pd.DataFrame(x)\n",
    "    x['percentage']=x/len(df)\n",
    "    x['var']=cat\n",
    "    x['category']=x.index.values\n",
    "    x.columns=['count','percentage','var','category']\n",
    "    if cat==cat_unique[0]:\n",
    "        freq_table=x\n",
    "    else:\n",
    "        freq_table=x.append([freq_table])\n",
    "freq_table"
   ]
  },
  {
   "cell_type": "code",
   "execution_count": null,
   "metadata": {},
   "outputs": [],
   "source": [
    "cat_cols\n",
    "for col in cat_cols:\n",
    "    if train_df[col].dtype==object:\n",
    "        print(col)\n",
    "        lbl = preprocessing.LabelEncoder()\n",
    "        lbl.fit(list(train_df[col].values.astype('str')) + list(test_df[col].values.astype('str')))\n",
    "        train_df[col] = lbl.transform(list(train_df[col].values.astype('str')))\n",
    "        test_df[col] = lbl.transform(list(test_df[col].values.astype('str')))"
   ]
  }
 ],
 "metadata": {
  "kernelspec": {
   "display_name": "Python 3",
   "language": "python",
   "name": "python3"
  },
  "language_info": {
   "codemirror_mode": {
    "name": "ipython",
    "version": 3
   },
   "file_extension": ".py",
   "mimetype": "text/x-python",
   "name": "python",
   "nbconvert_exporter": "python",
   "pygments_lexer": "ipython3",
   "version": "3.6.10"
  }
 },
 "nbformat": 4,
 "nbformat_minor": 4
}
